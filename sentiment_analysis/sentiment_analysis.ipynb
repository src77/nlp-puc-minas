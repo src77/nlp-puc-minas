{
 "cells": [
  {
   "cell_type": "code",
   "execution_count": 1,
   "metadata": {
    "_cell_guid": "c4b588ff-c7d5-407a-b4b6-80e8bbc7690c",
    "_uuid": "9112bbd7f06e0dade3180b209ad38ebcf178d909"
   },
   "outputs": [
    {
     "name": "stderr",
     "output_type": "stream",
     "text": [
      "/home/groot/anaconda3/lib/python3.7/site-packages/dask/dataframe/utils.py:15: FutureWarning: pandas.util.testing is deprecated. Use the functions in the public API at pandas.testing instead.\n",
      "  import pandas.util.testing as tm\n"
     ]
    }
   ],
   "source": [
    "# Importing libraries\n",
    "import numpy as np\n",
    "import pandas as pd\n",
    "import os\n",
    "import re\n",
    "import gensim\n",
    "from gensim.models import KeyedVectors as word2vec\n",
    "from sklearn.utils import resample\n",
    "import xgboost as xgb\n",
    "from xgboost import XGBClassifier\n",
    "from sklearn.model_selection import KFold, StratifiedKFold\n",
    "from sklearn.model_selection import train_test_split, cross_val_score, GridSearchCV\n",
    "from sklearn.metrics import accuracy_score, recall_score, roc_auc_score, confusion_matrix, classification_report, make_scorer, log_loss\n",
    "from xgboost import plot_importance\n",
    "from matplotlib.pyplot import figure\n",
    "from matplotlib import pyplot as plt\n",
    "import time\n",
    "from datetime import datetime\n",
    "from time import gmtime, strftime\n",
    "from copy import deepcopy\n",
    "import sys\n",
    "from glob import glob\n",
    "import warnings\n",
    "from unidecode import unidecode\n",
    "sys.path.insert(1, '../word2vec/')\n",
    "import regex\n",
    "warnings.filterwarnings('ignore')"
   ]
  },
  {
   "cell_type": "code",
   "execution_count": 2,
   "metadata": {},
   "outputs": [],
   "source": [
    "w2v_path = '../word2vec/models/vectors.kv'\n",
    "w2v_model = word2vec.load(w2v_path)\n",
    "w2v_model.init_sims(replace=True)"
   ]
  },
  {
   "cell_type": "code",
   "execution_count": 3,
   "metadata": {},
   "outputs": [],
   "source": [
    "stop_words = set(pd.read_csv('../word2vec/input/stop_words_.txt', names=['stop']).stop)\n",
    "stop_words = dict.fromkeys(stop_words,1)\n",
    "def remove_stop_words(sentence, stop_words=stop_words):\n",
    "    stop = []\n",
    "    if type(sentence) != list:\n",
    "        return []\n",
    "    for word in sentence:\n",
    "        if not stop_words.get(word):\n",
    "            stop.append(word)\n",
    "    return stop"
   ]
  },
  {
   "cell_type": "code",
   "execution_count": 4,
   "metadata": {},
   "outputs": [],
   "source": [
    "def get_regex_bad():\n",
    "    bad = set(pd.read_csv('../word2vec/input/bad.csv', names=['words']).words)\n",
    "    reg = '\\\\bcu\\\\b'\n",
    "    for value in bad:\n",
    "        reg += '|\\\\b' + value\n",
    "    return reg\n",
    "\n",
    "reg_bad = get_regex_bad()\n",
    "def pre_classifier(sentence):\n",
    "    quant = len(re.findall(reg_bad, sentence))\n",
    "    return quant"
   ]
  },
  {
   "cell_type": "code",
   "execution_count": 5,
   "metadata": {},
   "outputs": [],
   "source": [
    "def rename_wrong_words(sentences, wrong_worgs=regex.WRONG_WORDS):\n",
    "    sentences = sentences.replace(to_replace=wrong_worgs, regex=True)\n",
    "    return sentences"
   ]
  },
  {
   "cell_type": "code",
   "execution_count": 6,
   "metadata": {},
   "outputs": [],
   "source": [
    "def text_normalizer(sentences, num_to_word=regex.NUM_TO_WORD, regex_dic=regex.REGEX_DIC):\n",
    "    sentences = sentences.apply(unidecode)\n",
    "    sentences = sentences.replace(to_replace=num_to_word, regex=True)\n",
    "    sentences = sentences.replace(to_replace=regex_dic, regex=True)\n",
    "    return sentences"
   ]
  },
  {
   "cell_type": "code",
   "execution_count": 7,
   "metadata": {},
   "outputs": [],
   "source": [
    "def clean_text(sentences):\n",
    "    sentences = sentences.apply(lambda s: str(s).lower())\n",
    "    sentences = text_normalizer(sentences)\n",
    "    sentences = rename_wrong_words(sentences)\n",
    "    sentences = sentences.str.findall(r'[a-z]+|[\\?!,]')\n",
    "    return sentences"
   ]
  },
  {
   "cell_type": "code",
   "execution_count": 8,
   "metadata": {},
   "outputs": [],
   "source": [
    "# Função responsável por encontrar o vetor que representa todas as palavras de uma sentença\n",
    "def featureVecMethod(sentence, model, num_features):\n",
    "    featureVec = np.zeros(num_features, dtype=\"float32\")\n",
    "    vec_checksum = np.zeros(num_features, dtype=\"float32\")\n",
    "    nwords = 0\n",
    "\n",
    "    for i, word in enumerate(sentence):\n",
    "        try:\n",
    "            vec = model.wv[word]\n",
    "            nwords = nwords + 1\n",
    "            featureVec = np.add(featureVec, vec)\n",
    "            vec_sum = np.multiply(vec, i+1)\n",
    "            vec_checksum = np.add(vec_checksum, vec_sum)\n",
    "        except:\n",
    "            pass\n",
    "\n",
    "    # Cálculo do 'vetor médio'\n",
    "    if nwords > 0:\n",
    "        featureVec = np.divide(featureVec, nwords)\n",
    "\n",
    "    # Esse ajuste é necessário para que o algoritmo leve em conta a ordem das palavras\n",
    "    vec_checksum = np.sum(vec_checksum)\n",
    "    featureVec = np.append(featureVec, vec_checksum)\n",
    "    return featureVec"
   ]
  },
  {
   "cell_type": "code",
   "execution_count": 9,
   "metadata": {},
   "outputs": [],
   "source": [
    "# Função retorna o conjunto de vetores das sentenças\n",
    "def getAvgFeatureVecs(sentences, model, num_features):\n",
    "    reviewFeatureVecs = np.zeros((len(sentences),num_features+1),dtype=\"float32\")\n",
    "    for i, sentence in enumerate(sentences):     \n",
    "        reviewFeatureVecs[i] = featureVecMethod(sentence, model, num_features)        \n",
    "    return reviewFeatureVecs"
   ]
  },
  {
   "cell_type": "code",
   "execution_count": 10,
   "metadata": {},
   "outputs": [],
   "source": [
    "# Função responsável pela limpeza dos textos, adição de feature e retorno do dataframe com os vetores\n",
    "# num_features representa a quantidade de dimensões que cada palavra tem no modelo word2vec\n",
    "def transform(sentences, w2v_model, num_features=300):\n",
    "    sentences = clean_text(sentences)\n",
    "    col_names = ['c'+str(i+1) for i in range(0,num_features+1)]\n",
    "    vecs = pd.DataFrame(getAvgFeatureVecs(sentences, w2v_model, num_features), columns=col_names)\n",
    "    pre = pd.DataFrame()\n",
    "    sentences = sentences.str.join(' ')\n",
    "    pre[\"bad\"] = sentences.apply(pre_classifier)\n",
    "    frame = pd.concat([pre, vecs], axis=1)    \n",
    "    return frame"
   ]
  },
  {
   "cell_type": "code",
   "execution_count": 11,
   "metadata": {},
   "outputs": [],
   "source": [
    "# Função retorna a qual classe cada comentário faz parte, positivo ou negativo \n",
    "def predict(sentences, w2v_model, xgb_model, num_features=300):\n",
    "    sentiment_vec = transform(sentences, w2v_model, num_features)\n",
    "    score = xgb_model.predict_proba(sentiment_vec)\n",
    "    score = pd.DataFrame(score, columns=xgb_model.classes_)\n",
    "    for i in score.columns:\n",
    "        score[i] = score[i].apply(lambda x: format(x*100, \".2f\"))\n",
    "    sentences = pd.DataFrame({'texto': sentences})\n",
    "    return pd.concat([sentences, score], axis=1)"
   ]
  },
  {
   "cell_type": "code",
   "execution_count": 12,
   "metadata": {},
   "outputs": [],
   "source": [
    "def train(model, X_train, X_test, y_train, y_test):\n",
    "    model.fit(X_train, y_train, eval_set=[(X_train, y_train), (X_test, y_test)],\n",
    "            eval_metric=['logloss', 'auc'], early_stopping_rounds=100,\n",
    "            verbose=False)    \n",
    "    return model"
   ]
  },
  {
   "cell_type": "code",
   "execution_count": 13,
   "metadata": {},
   "outputs": [],
   "source": [
    "def eval_train(model):\n",
    "    results = model.evals_result()\n",
    "    epochs = len(results['validation_0']['logloss'])\n",
    "    x_axis = range(0, epochs)\n",
    "\n",
    "    # plot log loss\n",
    "    fig, axes = plt.subplots(nrows=1, ncols=2, figsize=(16, 5))\n",
    "    axes[0].plot(x_axis, results['validation_0']['logloss'], label='Train')\n",
    "    axes[0].plot(x_axis, results['validation_1']['logloss'], label='Test')\n",
    "    axes[0].legend()\n",
    "    axes[0].set(xlabel = 'Epochs: ' + str(epochs), ylabel = 'Log Loss')\n",
    "    axes[0].set_title('XGBoost Log Loss')\n",
    "\n",
    "    # plot AUC\n",
    "    axes[1].plot(x_axis, results['validation_0']['auc'], label='Train')\n",
    "    axes[1].plot(x_axis, results['validation_1']['auc'], label='Test')\n",
    "    axes[1].legend()\n",
    "    plt.xlabel('Epochs:' + str(epochs))\n",
    "    plt.ylabel('Acurácia')\n",
    "    axes[1].set_title('XGBoost Acurácia')\n",
    "    plt.show()"
   ]
  },
  {
   "cell_type": "markdown",
   "metadata": {},
   "source": [
    "# Carregar dados"
   ]
  },
  {
   "cell_type": "code",
   "execution_count": 14,
   "metadata": {},
   "outputs": [],
   "source": [
    "pos = pd.read_csv(\"input/positivo.csv\")\n",
    "neg = pd.read_csv(\"input/negativo.csv\")\n",
    "sentiment = pd.concat([pos,neg]).drop_duplicates().reset_index(drop=True)\n",
    "sentiment = sentiment.fillna('')"
   ]
  },
  {
   "cell_type": "markdown",
   "metadata": {},
   "source": [
    "# Processar dados"
   ]
  },
  {
   "cell_type": "markdown",
   "metadata": {},
   "source": [
    "### Transformar textos em vetores"
   ]
  },
  {
   "cell_type": "code",
   "execution_count": 15,
   "metadata": {},
   "outputs": [],
   "source": [
    "trainVecs = transform(sentiment['review'], w2v_model)\n",
    "data = pd.concat([sentiment.categoria, trainVecs], axis=1)\n",
    "data = data.drop_duplicates()"
   ]
  },
  {
   "cell_type": "markdown",
   "metadata": {},
   "source": [
    "### Balancear classes"
   ]
  },
  {
   "cell_type": "code",
   "execution_count": 16,
   "metadata": {},
   "outputs": [
    {
     "data": {
      "text/plain": [
       "categoria\n",
       "-1    5729\n",
       " 1    4721\n",
       "Name: categoria, dtype: int64"
      ]
     },
     "execution_count": 16,
     "metadata": {},
     "output_type": "execute_result"
    }
   ],
   "source": [
    "data.groupby('categoria')['categoria'].count()"
   ]
  },
  {
   "cell_type": "code",
   "execution_count": 17,
   "metadata": {},
   "outputs": [
    {
     "data": {
      "text/plain": [
       "-1    4721\n",
       " 1    4721\n",
       "Name: categoria, dtype: int64"
      ]
     },
     "execution_count": 17,
     "metadata": {},
     "output_type": "execute_result"
    }
   ],
   "source": [
    "df_maior = data[data.categoria==-1]\n",
    "df_menor = data[data.categoria==1]\n",
    "df_ = resample(df_maior, replace=True, n_samples=df_menor.shape[0], random_state=123) \n",
    "data = pd.concat([df_menor, df_])\n",
    "data.categoria.value_counts()"
   ]
  },
  {
   "cell_type": "markdown",
   "metadata": {},
   "source": [
    "### Separar dados de treino e teste"
   ]
  },
  {
   "cell_type": "code",
   "execution_count": 18,
   "metadata": {},
   "outputs": [],
   "source": [
    "X_train, X_test, y_train, y_test = train_test_split(data.iloc[:, 1:], data.iloc[:, 0],\n",
    "                                                    train_size=.8, stratify=data.iloc[:, 0],\n",
    "                                                    random_state=99)"
   ]
  },
  {
   "cell_type": "markdown",
   "metadata": {},
   "source": [
    "# Treinamento"
   ]
  },
  {
   "cell_type": "markdown",
   "metadata": {},
   "source": [
    "### Processo preliminar com parâmetros default"
   ]
  },
  {
   "cell_type": "code",
   "execution_count": 19,
   "metadata": {},
   "outputs": [],
   "source": [
    "xgb_model = xgb.XGBClassifier(\n",
    "                learning_rate=0.1,\n",
    "                nthread=-1,\n",
    "                random_state=99,\n",
    "                objective='binary:logistic',\n",
    "                booster='gbtree'\n",
    "            )"
   ]
  },
  {
   "cell_type": "code",
   "execution_count": 20,
   "metadata": {},
   "outputs": [
    {
     "data": {
      "image/png": "[encoded data removed]",
      "text/plain": [
       "<Figure size 1152x360 with 2 Axes>"
      ]
     },
     "metadata": {
      "needs_background": "light"
     },
     "output_type": "display_data"
    }
   ],
   "source": [
    "xgb_model = train(xgb_model, X_train, X_test, y_train, y_test)\n",
    "eval_train(xgb_model)"
   ]
  },
  {
   "cell_type": "markdown",
   "metadata": {},
   "source": [
    "### Avaliar métricas"
   ]
  },
  {
   "cell_type": "code",
   "execution_count": 21,
   "metadata": {},
   "outputs": [
    {
     "name": "stdout",
     "output_type": "stream",
     "text": [
      "Acurácia: 96.19%\n"
     ]
    }
   ],
   "source": [
    "# Fazer previsões com dados-teste\n",
    "y_pred = xgb_model.predict(X_test)\n",
    "predictions = [value for value in y_pred]\n",
    "accuracy = accuracy_score(y_test, predictions)\n",
    "print(\"Acurácia: %.2f%%\" % (accuracy * 100.0))"
   ]
  },
  {
   "cell_type": "markdown",
   "metadata": {},
   "source": [
    "### Grid Search"
   ]
  },
  {
   "cell_type": "code",
   "execution_count": 24,
   "metadata": {},
   "outputs": [
    {
     "name": "stdout",
     "output_type": "stream",
     "text": [
      "Fitting 3 folds for each of 400 candidates, totalling 1200 fits\n"
     ]
    },
    {
     "name": "stderr",
     "output_type": "stream",
     "text": [
      "[Parallel(n_jobs=-1)]: Using backend LokyBackend with 4 concurrent workers.\n",
      "[Parallel(n_jobs=-1)]: Done  24 tasks      | elapsed:  1.4min\n",
      "[Parallel(n_jobs=-1)]: Done 120 tasks      | elapsed: 11.7min\n",
      "[Parallel(n_jobs=-1)]: Done 280 tasks      | elapsed: 29.4min\n",
      "[Parallel(n_jobs=-1)]: Done 504 tasks      | elapsed: 58.2min\n",
      "[Parallel(n_jobs=-1)]: Done 792 tasks      | elapsed: 100.6min\n",
      "[Parallel(n_jobs=-1)]: Done 1144 tasks      | elapsed: 163.4min\n",
      "[Parallel(n_jobs=-1)]: Done 1200 out of 1200 | elapsed: 174.8min finished\n"
     ]
    },
    {
     "name": "stdout",
     "output_type": "stream",
     "text": [
      "\n",
      " Best estimator:\n",
      "XGBClassifier(base_score=0.5, booster='gbtree', colsample_bylevel=1,\n",
      "              colsample_bynode=1, colsample_bytree=0.7000000000000001, gamma=0,\n",
      "              gpu_id=-1, importance_type='gain', interaction_constraints=None,\n",
      "              learning_rate=0.1, max_delta_step=0, max_depth=5,\n",
      "              min_child_weight=1, missing=nan, monotone_constraints=None,\n",
      "              n_estimators=200, n_jobs=-1, nthread=-1, num_parallel_tree=1,\n",
      "              objective='binary:logistic', random_state=99, reg_alpha=0,\n",
      "              reg_lambda=1, scale_pos_weight=1, subsample=0.6000000000000001,\n",
      "              tree_method=None, validate_parameters=False, verbosity=None)\n",
      "\n",
      " Best score:\n",
      "0.9288663913680564\n",
      "\n",
      " Best parameters:\n",
      "{'colsample_bytree': 0.7000000000000001, 'max_depth': 5, 'n_estimators': 200, 'subsample': 0.6000000000000001}\n"
     ]
    }
   ],
   "source": [
    "scorers = {\n",
    "    'accuracy_score': make_scorer(accuracy_score),\n",
    "    'neg_log_loss': make_scorer(log_loss)\n",
    "}\n",
    "params = {\n",
    "        'subsample': [i*.1 for i in range(5,10)],\n",
    "        'colsample_bytree': [i*.1 for i in range(5,10)],\n",
    "        'max_depth': [i for i in range(5,13,2)],\n",
    "        'n_estimators': [i for i in range(100, 300, 50) ]\n",
    "        }\n",
    "\n",
    "\n",
    "skf = StratifiedKFold(n_splits=3, shuffle = True)\n",
    "\n",
    "grid = GridSearchCV(xgb_model, \n",
    "                    param_grid = params, \n",
    "                    scoring = scorers, \n",
    "                    n_jobs = -1, \n",
    "                    cv = skf.split(X_train, y_train),\n",
    "                    refit = 'accuracy_score',\n",
    "                    verbose=False,\n",
    "                    return_train_score=True)\n",
    "\n",
    "grid.fit(X_train, y_train)\n",
    "print('\\n Best estimator:')\n",
    "print(grid.best_estimator_)\n",
    "print('\\n Best score:')\n",
    "print(grid.best_score_ * 2 - 1)\n",
    "print('\\n Best parameters:')\n",
    "print(grid.best_params_)"
   ]
  },
  {
   "cell_type": "code",
   "execution_count": 22,
   "metadata": {},
   "outputs": [
    {
     "data": {
      "image/png": "[encoded data removed]",
      "text/plain": [
       "<Figure size 1152x360 with 2 Axes>"
      ]
     },
     "metadata": {
      "needs_background": "light"
     },
     "output_type": "display_data"
    }
   ],
   "source": [
    "xgb_model.set_params(**grid.best_params_)\n",
    "xgb_model = train(xgb_model, X_train, X_test, y_train, y_test)\n",
    "eval_train(xgb_model)"
   ]
  },
  {
   "cell_type": "markdown",
   "metadata": {},
   "source": [
    "### Avaliar métricas"
   ]
  },
  {
   "cell_type": "code",
   "execution_count": 23,
   "metadata": {},
   "outputs": [
    {
     "name": "stdout",
     "output_type": "stream",
     "text": [
      "Acurácia: 96.45%\n"
     ]
    }
   ],
   "source": [
    "# Fazer previsões com dados-teste\n",
    "y_pred = xgb_model.predict(X_test)\n",
    "predictions = [value for value in y_pred]\n",
    "accuracy = accuracy_score(y_test, predictions)\n",
    "print(\"Acurácia: %.2f%%\" % (accuracy * 100.0))"
   ]
  },
  {
   "cell_type": "code",
   "execution_count": 25,
   "metadata": {},
   "outputs": [
    {
     "data": {
      "text/html": [
       "<div>\n",
       "<style scoped>\n",
       "    .dataframe tbody tr th:only-of-type {\n",
       "        vertical-align: middle;\n",
       "    }\n",
       "\n",
       "    .dataframe tbody tr th {\n",
       "        vertical-align: top;\n",
       "    }\n",
       "\n",
       "    .dataframe thead th {\n",
       "        text-align: right;\n",
       "    }\n",
       "</style>\n",
       "<table border=\"1\" class=\"dataframe\">\n",
       "  <thead>\n",
       "    <tr style=\"text-align: right;\">\n",
       "      <th></th>\n",
       "      <th>-1</th>\n",
       "      <th>1</th>\n",
       "    </tr>\n",
       "  </thead>\n",
       "  <tbody>\n",
       "    <tr>\n",
       "      <th>-1</th>\n",
       "      <td>919</td>\n",
       "      <td>25</td>\n",
       "    </tr>\n",
       "    <tr>\n",
       "      <th>1</th>\n",
       "      <td>42</td>\n",
       "      <td>903</td>\n",
       "    </tr>\n",
       "  </tbody>\n",
       "</table>\n",
       "</div>"
      ],
      "text/plain": [
       "     -1    1\n",
       "-1  919   25\n",
       " 1   42  903"
      ]
     },
     "execution_count": 25,
     "metadata": {},
     "output_type": "execute_result"
    }
   ],
   "source": [
    "#Matriz de confusão\n",
    "conf = confusion_matrix(y_test, y_pred)\n",
    "pd.DataFrame(conf, columns=xgb_model.classes_, index=xgb_model.classes_)"
   ]
  },
  {
   "cell_type": "markdown",
   "metadata": {},
   "source": [
    "# Testar modelo"
   ]
  },
  {
   "cell_type": "code",
   "execution_count": 26,
   "metadata": {},
   "outputs": [],
   "source": [
    "sentences = [ \"Ótimo! Permite acompanhar sua conta direto no celular. Recomendo!\",\n",
    "             \"Não trava e ajuda vc evitar de ir ao banco\",\n",
    "             \"Melhor app de banco.... fantástico...me surpreende a cada dia e a cada vez que necessito de alternativas....\",\n",
    "              \"Pode confiar\", \n",
    "             \"gosto muito\",\n",
    "             \"boa\",\n",
    "             \"Muito bom, sem burocracia de fila e espera.\",\n",
    "             \"Mui raramente não funciona. Melhor que o do Santander e da Caixa.\",\n",
    "             \"Eita fila que demora!\",\n",
    "              \"Minha senha de 6 dígitos está bloqueada\",\n",
    "              \"Nota maxima para o app\",\n",
    "              \"App muito bom, so que não\",\n",
    "              \"mto dificil de ser utilizado, poderia ser mais prático como o da Caixa\",\n",
    "            \"O banco não pensa no cliente\",\n",
    "             \"nao, gosto muito do atendimento\",\n",
    "             \"nao gosto muito do atendimento\",\n",
    "             \"O app realmente funciona bem,nunca me deixa na mão\"\n",
    "             ]"
   ]
  },
  {
   "cell_type": "code",
   "execution_count": 27,
   "metadata": {},
   "outputs": [
    {
     "data": {
      "text/html": [
       "<div>\n",
       "<style scoped>\n",
       "    .dataframe tbody tr th:only-of-type {\n",
       "        vertical-align: middle;\n",
       "    }\n",
       "\n",
       "    .dataframe tbody tr th {\n",
       "        vertical-align: top;\n",
       "    }\n",
       "\n",
       "    .dataframe thead th {\n",
       "        text-align: right;\n",
       "    }\n",
       "</style>\n",
       "<table border=\"1\" class=\"dataframe\">\n",
       "  <thead>\n",
       "    <tr style=\"text-align: right;\">\n",
       "      <th></th>\n",
       "      <th>texto</th>\n",
       "      <th>-1</th>\n",
       "      <th>1</th>\n",
       "    </tr>\n",
       "  </thead>\n",
       "  <tbody>\n",
       "    <tr>\n",
       "      <th>0</th>\n",
       "      <td>Ótimo! Permite acompanhar sua conta direto no ...</td>\n",
       "      <td>0.06</td>\n",
       "      <td>99.94</td>\n",
       "    </tr>\n",
       "    <tr>\n",
       "      <th>1</th>\n",
       "      <td>Não trava e ajuda vc evitar de ir ao banco</td>\n",
       "      <td>3.74</td>\n",
       "      <td>96.26</td>\n",
       "    </tr>\n",
       "    <tr>\n",
       "      <th>2</th>\n",
       "      <td>Melhor app de banco.... fantástico...me surpre...</td>\n",
       "      <td>0.38</td>\n",
       "      <td>99.62</td>\n",
       "    </tr>\n",
       "    <tr>\n",
       "      <th>3</th>\n",
       "      <td>Pode confiar</td>\n",
       "      <td>4.45</td>\n",
       "      <td>95.55</td>\n",
       "    </tr>\n",
       "    <tr>\n",
       "      <th>4</th>\n",
       "      <td>gosto muito</td>\n",
       "      <td>0.16</td>\n",
       "      <td>99.84</td>\n",
       "    </tr>\n",
       "    <tr>\n",
       "      <th>5</th>\n",
       "      <td>boa</td>\n",
       "      <td>0.01</td>\n",
       "      <td>99.99</td>\n",
       "    </tr>\n",
       "    <tr>\n",
       "      <th>6</th>\n",
       "      <td>Muito bom, sem burocracia de fila e espera.</td>\n",
       "      <td>2.38</td>\n",
       "      <td>97.62</td>\n",
       "    </tr>\n",
       "    <tr>\n",
       "      <th>7</th>\n",
       "      <td>Mui raramente não funciona. Melhor que o do Sa...</td>\n",
       "      <td>2.71</td>\n",
       "      <td>97.29</td>\n",
       "    </tr>\n",
       "    <tr>\n",
       "      <th>8</th>\n",
       "      <td>Eita fila que demora!</td>\n",
       "      <td>98.45</td>\n",
       "      <td>1.55</td>\n",
       "    </tr>\n",
       "    <tr>\n",
       "      <th>9</th>\n",
       "      <td>Minha senha de 6 dígitos está bloqueada</td>\n",
       "      <td>99.55</td>\n",
       "      <td>0.45</td>\n",
       "    </tr>\n",
       "    <tr>\n",
       "      <th>10</th>\n",
       "      <td>Nota maxima para o app</td>\n",
       "      <td>1.39</td>\n",
       "      <td>98.61</td>\n",
       "    </tr>\n",
       "    <tr>\n",
       "      <th>11</th>\n",
       "      <td>App muito bom, so que não</td>\n",
       "      <td>99.33</td>\n",
       "      <td>0.67</td>\n",
       "    </tr>\n",
       "    <tr>\n",
       "      <th>12</th>\n",
       "      <td>mto dificil de ser utilizado, poderia ser mais...</td>\n",
       "      <td>94.68</td>\n",
       "      <td>5.32</td>\n",
       "    </tr>\n",
       "    <tr>\n",
       "      <th>13</th>\n",
       "      <td>O banco não pensa no cliente</td>\n",
       "      <td>52.39</td>\n",
       "      <td>47.61</td>\n",
       "    </tr>\n",
       "    <tr>\n",
       "      <th>14</th>\n",
       "      <td>nao, gosto muito do atendimento</td>\n",
       "      <td>8.82</td>\n",
       "      <td>91.18</td>\n",
       "    </tr>\n",
       "    <tr>\n",
       "      <th>15</th>\n",
       "      <td>nao gosto muito do atendimento</td>\n",
       "      <td>95.55</td>\n",
       "      <td>4.45</td>\n",
       "    </tr>\n",
       "    <tr>\n",
       "      <th>16</th>\n",
       "      <td>O app realmente funciona bem,nunca me deixa na...</td>\n",
       "      <td>2.14</td>\n",
       "      <td>97.86</td>\n",
       "    </tr>\n",
       "  </tbody>\n",
       "</table>\n",
       "</div>"
      ],
      "text/plain": [
       "                                                texto     -1      1\n",
       "0   Ótimo! Permite acompanhar sua conta direto no ...   0.06  99.94\n",
       "1          Não trava e ajuda vc evitar de ir ao banco   3.74  96.26\n",
       "2   Melhor app de banco.... fantástico...me surpre...   0.38  99.62\n",
       "3                                        Pode confiar   4.45  95.55\n",
       "4                                         gosto muito   0.16  99.84\n",
       "5                                                 boa   0.01  99.99\n",
       "6         Muito bom, sem burocracia de fila e espera.   2.38  97.62\n",
       "7   Mui raramente não funciona. Melhor que o do Sa...   2.71  97.29\n",
       "8                               Eita fila que demora!  98.45   1.55\n",
       "9             Minha senha de 6 dígitos está bloqueada  99.55   0.45\n",
       "10                             Nota maxima para o app   1.39  98.61\n",
       "11                          App muito bom, so que não  99.33   0.67\n",
       "12  mto dificil de ser utilizado, poderia ser mais...  94.68   5.32\n",
       "13                       O banco não pensa no cliente  52.39  47.61\n",
       "14                    nao, gosto muito do atendimento   8.82  91.18\n",
       "15                     nao gosto muito do atendimento  95.55   4.45\n",
       "16  O app realmente funciona bem,nunca me deixa na...   2.14  97.86"
      ]
     },
     "execution_count": 27,
     "metadata": {},
     "output_type": "execute_result"
    }
   ],
   "source": [
    "predict(pd.Series(sentences), w2v_model=w2v_model, xgb_model=xgb_model)"
   ]
  },
  {
   "cell_type": "markdown",
   "metadata": {},
   "source": [
    "# Salvar modelo"
   ]
  },
  {
   "cell_type": "code",
   "execution_count": 28,
   "metadata": {},
   "outputs": [
    {
     "name": "stdout",
     "output_type": "stream",
     "text": [
      "models/xgb_model_sentiment-1589678886.bin\n"
     ]
    }
   ],
   "source": [
    "filename = filename = 'models/xgb_model_sentiment-' + str(int(time.time())) + '.bin'\n",
    "xgb_model.save_model(filename)\n",
    "print(filename)"
   ]
  },
  {
   "cell_type": "code",
   "execution_count": null,
   "metadata": {},
   "outputs": [],
   "source": []
  }
 ],
 "metadata": {
  "kernelspec": {
   "display_name": "Python 3",
   "language": "python",
   "name": "python3"
  },
  "language_info": {
   "codemirror_mode": {
    "name": "ipython",
    "version": 3
   },
   "file_extension": ".py",
   "mimetype": "text/x-python",
   "name": "python",
   "nbconvert_exporter": "python",
   "pygments_lexer": "ipython3",
   "version": "3.7.4"
  }
 },
 "nbformat": 4,
 "nbformat_minor": 1
}